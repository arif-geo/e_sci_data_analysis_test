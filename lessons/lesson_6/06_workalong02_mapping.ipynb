{
 "cells": [
  {
   "cell_type": "markdown",
   "metadata": {},
   "source": [
    "\n",
    "<a target=\"_blank\" href=\"https://colab.research.google.com/github/taobrienlbl/advanced_earth_science_data_analysis/blob/spring_2023_iub/lessons/06_advanced_plotting/06_workalong02_mapping.ipynb\">\n",
    "  <img src=\"https://colab.research.google.com/assets/colab-badge.svg\" alt=\"Open In Colab\"/>\n",
    "</a>\n",
    "\n",
    "# Mapping\n",
    "\n",
    "This workalong and exercise introduce mapping in `matplotlib`. We'll build from the figure we created in the first workalong."
   ]
  },
  {
   "cell_type": "code",
   "execution_count": 1,
   "metadata": {},
   "outputs": [
    {
     "data": {
      "text/plain": [
       "' Import libraries '"
      ]
     },
     "execution_count": 1,
     "metadata": {},
     "output_type": "execute_result"
    }
   ],
   "source": [
    "\"\"\" Import libraries \"\"\"\n"
   ]
  },
  {
   "cell_type": "code",
   "execution_count": 2,
   "metadata": {},
   "outputs": [
    {
     "ename": "NameError",
     "evalue": "name 'xr' is not defined",
     "output_type": "error",
     "traceback": [
      "\u001b[0;31m---------------------------------------------------------------------------\u001b[0m",
      "\u001b[0;31mNameError\u001b[0m                                 Traceback (most recent call last)",
      "\u001b[1;32m/Users/mdarifulislam/learning/earth_sci_data_analysis/Week_6/06_workalong02_mapping.ipynb Cell 3\u001b[0m line \u001b[0;36m6\n\u001b[1;32m      <a href='vscode-notebook-cell:/Users/mdarifulislam/learning/earth_sci_data_analysis/Week_6/06_workalong02_mapping.ipynb#W2sZmlsZQ%3D%3D?line=2'>3</a>\u001b[0m input_file \u001b[39m=\u001b[39m \u001b[39m\"\u001b[39m\u001b[39mair.2m.gauss.2021.nc\u001b[39m\u001b[39m\"\u001b[39m\n\u001b[1;32m      <a href='vscode-notebook-cell:/Users/mdarifulislam/learning/earth_sci_data_analysis/Week_6/06_workalong02_mapping.ipynb#W2sZmlsZQ%3D%3D?line=4'>5</a>\u001b[0m \u001b[39m# open the dataset using xarray\u001b[39;00m\n\u001b[0;32m----> <a href='vscode-notebook-cell:/Users/mdarifulislam/learning/earth_sci_data_analysis/Week_6/06_workalong02_mapping.ipynb#W2sZmlsZQ%3D%3D?line=5'>6</a>\u001b[0m temp_ds \u001b[39m=\u001b[39m xr\u001b[39m.\u001b[39mopen_dataset(input_file, chunks \u001b[39m=\u001b[39m \u001b[39m-\u001b[39m\u001b[39m1\u001b[39m)\n\u001b[1;32m      <a href='vscode-notebook-cell:/Users/mdarifulislam/learning/earth_sci_data_analysis/Week_6/06_workalong02_mapping.ipynb#W2sZmlsZQ%3D%3D?line=7'>8</a>\u001b[0m \u001b[39m\"\"\" Calculate the hottest temperature recorded in each season. \"\"\"\u001b[39;00m\n\u001b[1;32m     <a href='vscode-notebook-cell:/Users/mdarifulislam/learning/earth_sci_data_analysis/Week_6/06_workalong02_mapping.ipynb#W2sZmlsZQ%3D%3D?line=9'>10</a>\u001b[0m \u001b[39m# xarray is built on top of pandas, so we can use groupby for this\u001b[39;00m\n",
      "\u001b[0;31mNameError\u001b[0m: name 'xr' is not defined"
     ]
    }
   ],
   "source": [
    "\"\"\" Load the dataset \"\"\"\n",
    "\n",
    "input_file = \"air.2m.gauss.2021.nc\"\n",
    "\n",
    "# open the dataset using xarray\n",
    "temp_ds = xr.open_dataset(input_file, chunks = -1)\n",
    "\n",
    "\"\"\" Calculate the hottest temperature recorded in each season. \"\"\"\n",
    "\n",
    "# xarray is built on top of pandas, so we can use groupby for this\n",
    "season_groups = temp_ds.groupby('time.season')\n",
    "\n",
    "# calculate the max in each season\n",
    "season_max_temp = season_groups.max()\n",
    "\n",
    "# extract temperature (and also use 'squeeze' to remove the pesky single-item level dimension)\n",
    "max_temp_xr = season_max_temp['air'].squeeze()\n",
    "\n",
    "# pull out coordinates\n",
    "seasons = max_temp_xr.season\n",
    "lat = max_temp_xr.lat\n",
    "lon = max_temp_xr.lon\n",
    "\n",
    "# force the calculation\n",
    "max_temp_xr.load()"
   ]
  },
  {
   "cell_type": "markdown",
   "metadata": {},
   "source": [
    "# Cartopy\n",
    "\n",
    "For mapping, we'll use `cartopy`.  Cartopy defines *projection* as the map projection on which the dataset will be drawn.  It defines the *transform* of the dataset as the projection on which the dataset exists.  They can be the same, but they don't have to be.\n",
    "\n",
    "Let's just explore projections."
   ]
  },
  {
   "cell_type": "code",
   "execution_count": null,
   "metadata": {},
   "outputs": [],
   "source": [
    "\n"
   ]
  },
  {
   "cell_type": "code",
   "execution_count": null,
   "metadata": {},
   "outputs": [],
   "source": [
    "\"\"\" Plot the hottest temperature recorded in each season with maplines. \"\"\"\n"
   ]
  }
 ],
 "metadata": {
  "kernelspec": {
   "display_name": "easg690",
   "language": "python",
   "name": "python3"
  },
  "language_info": {
   "codemirror_mode": {
    "name": "ipython",
    "version": 3
   },
   "file_extension": ".py",
   "mimetype": "text/x-python",
   "name": "python",
   "nbconvert_exporter": "python",
   "pygments_lexer": "ipython3",
   "version": "3.10.12"
  },
  "orig_nbformat": 4
 },
 "nbformat": 4,
 "nbformat_minor": 2
}
