{
 "cells": [
  {
   "attachments": {},
   "cell_type": "markdown",
   "id": "f77b3134-3eae-498b-93e4-96a428376184",
   "metadata": {},
   "source": [
    "# Chapter 4: Basic Line and Scatter Plots"
   ]
  },
  {
   "cell_type": "markdown",
   "id": "6008eb0e-8827-4eda-8171-fed7006c75a4",
   "metadata": {},
   "source": [
    "**4-1:** \n",
    "* `plot` function creates line plot and `scatter` function creates scatter plots.\n",
    "* to import a function only we can use:\\\n",
    "  `from modulename.submodule import function`\\\n",
    "  or, to import all functions in that module:\\\n",
    "  `import module.submodule as alias`"
   ]
  },
  {
   "cell_type": "markdown",
   "id": "24ff7d55-3a28-44ad-84f0-1989f40fb75f",
   "metadata": {},
   "source": [
    "**4-2:** \\\n",
    "`import matplotlib.pyplot as plt`\\\n",
    "`#a simple line plot`\\\n",
    "`plt.plot(xvalues, yvalues)`"
   ]
  },
  {
   "cell_type": "markdown",
   "id": "559f4787-99a1-4a3f-b209-e1c627a22ec7",
   "metadata": {},
   "source": [
    "**4-3:** \\\n",
    "We can add the following lines: \\\n",
    "`plt.xlabel(\"x-axis label\")` \\\n",
    "`plt.ylabel(\"y-axis label\")` \\"
   ]
  },
  {
   "cell_type": "markdown",
   "id": "53d0d810-3ecc-4586-b65b-cdd0804d6637",
   "metadata": {},
   "source": [
    "**4-4:** \\\n",
    "Function variables are positional, so both call will work but will produce different result. Because (x, y, z) will assign x to the first variable in the finction and so on. But in list [z, y, x], z will be 1st and so on. resulting in different solution."
   ]
  },
  {
   "cell_type": "markdown",
   "id": "464fc991-2cef-40ae-9850-1ab55f82acfd",
   "metadata": {},
   "source": [
    "**4-5** \\\n",
    "A list is list of objects or items that can be edited such as replaced, added or removed from the original list. It uses square brackets - `[]`. \\\n",
    "A tuple is almost same as a list but it is not editable, but items in a tuple can be used into a new variable. It uses round brackets - `()`"
   ]
  },
  {
   "cell_type": "markdown",
   "id": "552baf80-fb5f-4719-9ca7-8a7b8b85dd26",
   "metadata": {},
   "source": [
    "**4-6:** \n",
    "1. `len(data)` for length\n",
    "2. `data[0]`\n",
    "3. `data[2]`\n",
    "4. `data[-1]`\n",
    "5. `data[3, 10]`"
   ]
  },
  {
   "cell_type": "markdown",
   "id": "dfb40524-b3b2-4634-8d94-91512b407aae",
   "metadata": {},
   "source": [
    "species_name = \"\"\"Homo sapiens\"\"\""
   ]
  },
  {
   "cell_type": "markdown",
   "id": "b4686cdf-7d46-4fda-b94a-1ca3959aa31d",
   "metadata": {},
   "source": [
    "**4-7** \\\n",
    "All of them are used for strings. However, triple quotes enable multiple lines of string."
   ]
  },
  {
   "cell_type": "markdown",
   "id": "ac4028cd-8561-4965-844e-d240a78190e8",
   "metadata": {},
   "source": [
    "**4-8** \\\n",
    "`all_labels = label1 + ',' + label2 + ',' + label3 `"
   ]
  },
  {
   "cell_type": "markdown",
   "id": "cf85c29e-ee6b-47c6-a105-488bd0676e9b",
   "metadata": {},
   "source": [
    "**4-9** \\\n",
    "`all_labels_short = \"Cultures \" + label1['-1'] + label2['-1'] + label3['-1']`"
   ]
  },
  {
   "cell_type": "markdown",
   "id": "683edade-445b-4681-8447-4f1b91e08050",
   "metadata": {},
   "source": [
    "**4-10** \\\n",
    "`id_label = \"Sample\" + str(sample_id)`"
   ]
  },
  {
   "cell_type": "markdown",
   "id": "6c9c531b-b225-43be-8eff-ffab7b121ea3",
   "metadata": {
    "scrolled": true
   },
   "source": [
    "**4-11** \\\n",
    "If it interpretes `#` in the beginning of a line."
   ]
  },
  {
   "cell_type": "markdown",
   "id": "a5e15552-4540-4e75-bdd9-62cf3beda4e8",
   "metadata": {},
   "source": [
    "**4-12** \\\n",
    "Using `* ` at the beginning of each line. \\\n",
    "`* 3Erlenmeyerflasks.` \\\n",
    "`* testtubes.` \\\n",
    "`* 1Bunsenburner.`"
   ]
  },
  {
   "attachments": {},
   "cell_type": "markdown",
   "id": "6d798a74-21d4-4c61-a3d0-3d770674c44d",
   "metadata": {},
   "source": [
    "**4-13** \\\n",
    "By using a backslash `\\`. \\\n",
    "e.g.: \\\n",
    "`q413 = \"How does Python know\" + \\` \\\n",
    "`       \"when it has encountered\" + \\` \\\n",
    "`       \"a comment line?\"`"
   ]
  }
 ],
 "metadata": {
  "kernelspec": {
   "display_name": "Python 3 (ipykernel)",
   "language": "python",
   "name": "python3"
  },
  "language_info": {
   "codemirror_mode": {
    "name": "ipython",
    "version": 3
   },
   "file_extension": ".py",
   "mimetype": "text/x-python",
   "name": "python",
   "nbconvert_exporter": "python",
   "pygments_lexer": "ipython3",
   "version": "3.11.4"
  }
 },
 "nbformat": 4,
 "nbformat_minor": 5
}
