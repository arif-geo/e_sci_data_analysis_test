{
 "cells": [
  {
   "cell_type": "markdown",
   "id": "c85b5dd1-b3a9-4ab2-a1a2-ae9f79f84eb1",
   "metadata": {},
   "source": [
    "# expiriment 1\n",
    "## experiment 2"
   ]
  },
  {
   "cell_type": "markdown",
   "id": "02dae372-e786-4164-93e2-4b865a9cc545",
   "metadata": {},
   "source": [
    "this data is *fake*, this is not **fake**"
   ]
  },
  {
   "cell_type": "markdown",
   "id": "1d9a41ca-e633-44ea-9309-e9212fdec1a3",
   "metadata": {},
   "source": [
    "at [moga](www.mofa.gov.bd)"
   ]
  },
  {
   "cell_type": "code",
   "execution_count": null,
   "id": "5ce98e2a-6d7d-4690-bd22-1f3f2098249e",
   "metadata": {},
   "outputs": [],
   "source": []
  }
 ],
 "metadata": {
  "kernelspec": {
   "display_name": "Python 3 (ipykernel)",
   "language": "python",
   "name": "python3"
  },
  "language_info": {
   "codemirror_mode": {
    "name": "ipython",
    "version": 3
   },
   "file_extension": ".py",
   "mimetype": "text/x-python",
   "name": "python",
   "nbconvert_exporter": "python",
   "pygments_lexer": "ipython3",
   "version": "3.11.4"
  }
 },
 "nbformat": 4,
 "nbformat_minor": 5
}
