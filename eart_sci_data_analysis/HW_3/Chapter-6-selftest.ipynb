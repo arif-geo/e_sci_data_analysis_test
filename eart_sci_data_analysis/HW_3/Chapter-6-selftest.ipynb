{
 "cells": [
  {
   "cell_type": "markdown",
   "metadata": {},
   "source": [
    "# $$HW - 4$$\n",
    "\n"
   ]
  },
  {
   "cell_type": "markdown",
   "metadata": {},
   "source": [
    "# 6-1:\n",
    "1. np.arange(6): a list of 6 natural numbers from 0 to 5\n",
    "2. np.zeros(3): a list of 3 zeros\n",
    "3. np.ones(4, dtype='d'): a list of 4 ones with datatype double-precision floating-point or float64\n",
    "4. np.arange(4,9,2): a list of numberes from 4 to 8 with interval of 2"
   ]
  },
  {
   "cell_type": "markdown",
   "metadata": {},
   "source": [
    "# 6-2:\n",
    ".size method returns the product of array dimension."
   ]
  },
  {
   "cell_type": "markdown",
   "metadata": {},
   "source": [
    "# 6-3:\n",
    "from my understanding: data_temp = np.zeros(np.sise(data), dtype=data.dtype)\n",
    "\n",
    "the book soution says (............................................ dtype=data.dtype.char)"
   ]
  },
  {
   "cell_type": "markdown",
   "metadata": {},
   "source": [
    "# 6-4:\n",
    "Each element of data is divided by the maximum of the data array and the result is passed into sine function."
   ]
  },
  {
   "cell_type": "markdown",
   "metadata": {},
   "source": [
    "# 6-5: \n",
    "A 'for' loop iterates through a list or similar objects one by one element.\n",
    "The purpose is to apply some calculation or function to each element."
   ]
  },
  {
   "cell_type": "markdown",
   "metadata": {},
   "source": [
    "# 6-6:\n",
    "data = np.arange(x,y,z)\n",
    "data_product = 1\n",
    "for i in data:\n",
    "    data_product = data_product*i\n",
    "    "
   ]
  },
  {
   "cell_type": "markdown",
   "metadata": {},
   "source": [
    "# 6-7:\n",
    "We can use if and else statement so that if which elements are equal to the variable or not. we can use \"pass\" in the else statement."
   ]
  },
  {
   "cell_type": "markdown",
   "metadata": {},
   "source": [
    "# 6-8:"
   ]
  },
  {
   "cell_type": "code",
   "execution_count": null,
   "metadata": {},
   "outputs": [],
   "source": [
    "`#create an empty list to store qualified values\n",
    "over_threshold = [] \n",
    "for i in velocity:\n",
    "    if i > threshold:\n",
    "        over_threshold.append(i)\n",
    "\n",
    "    else:\n",
    "        pass\n",
    "\n",
    "#calculate average using one of several methods\n",
    "over_threshold_avg = np.mean(over_threshold)`"
   ]
  },
  {
   "cell_type": "markdown",
   "metadata": {},
   "source": [
    "# 6-9:\n",
    "A docstring is used to contain the documentation aka how to use the code and details of what the code does and inputs it takes for other users or reuse by the code writer.\n",
    "it can be initiated by triple quotes ''' ''' or \"\"\" \"\"\"."
   ]
  },
  {
   "cell_type": "markdown",
   "metadata": {},
   "source": [
    "# 6-10:\n",
    "It may cause small bugs in the code which will be untested or a code with limited or even no documentation.\n",
    "The readibility, reproducibility will take a hit and fixing small bugs will be harder during testing for a big chunk of code."
   ]
  }
 ],
 "metadata": {
  "kernelspec": {
   "display_name": "obspy",
   "language": "python",
   "name": "python3"
  },
  "language_info": {
   "codemirror_mode": {
    "name": "ipython",
    "version": 3
   },
   "file_extension": ".py",
   "mimetype": "text/x-python",
   "name": "python",
   "nbconvert_exporter": "python",
   "pygments_lexer": "ipython3",
   "version": "3.10.12"
  },
  "orig_nbformat": 4
 },
 "nbformat": 4,
 "nbformat_minor": 2
}
