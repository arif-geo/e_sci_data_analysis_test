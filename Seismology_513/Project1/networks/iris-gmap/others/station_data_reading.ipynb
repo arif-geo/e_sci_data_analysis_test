{
 "cells": [
  {
   "cell_type": "markdown",
   "id": "d3000aa3-5578-412a-8763-733a091bb341",
   "metadata": {},
   "source": [
    "All stations data in .txt file. \n",
    "Steps outline:\n",
    "    - read the file\n",
    "        - use \"|\" as separators\n",
    "        remove lines with # which indicate source of data\n",
    "    - use a for loop or a grouping command to write out all stations under the same network.\n",
    "    - \n",
    "\n",
    "    "
   ]
  },
  {
   "cell_type": "code",
   "execution_count": 1,
   "id": "a8bc9ac4-a3c8-4158-866b-f8df9f5c01a0",
   "metadata": {},
   "outputs": [
    {
     "name": "stdout",
     "output_type": "stream",
     "text": [
      "/Users/mdarifulislam/learning/Seismology_513/Project1/networks/iris-gmap/others\n"
     ]
    }
   ],
   "source": [
    "#cd into the file directory and then open jupyterlab\n",
    "!pwd"
   ]
  },
  {
   "cell_type": "code",
   "execution_count": 3,
   "id": "e919e1b1-cf72-40d0-8aa9-d3b28db8a0ed",
   "metadata": {},
   "outputs": [],
   "source": [
    "import pandas as pd\n",
    "\n",
    "data = pd.read_csv(\"./111_allStations.txt\", \\\n",
    "                   sep=\"|\")#, \\\n",
    "                   #comment = \"#\")"
   ]
  },
  {
   "cell_type": "code",
   "execution_count": 6,
   "id": "19c0a328-7d9b-405f-a9cc-206131bf867c",
   "metadata": {},
   "outputs": [
    {
     "data": {
      "text/html": [
       "<div>\n",
       "<style scoped>\n",
       "    .dataframe tbody tr th:only-of-type {\n",
       "        vertical-align: middle;\n",
       "    }\n",
       "\n",
       "    .dataframe tbody tr th {\n",
       "        vertical-align: top;\n",
       "    }\n",
       "\n",
       "    .dataframe thead th {\n",
       "        text-align: right;\n",
       "    }\n",
       "</style>\n",
       "<table border=\"1\" class=\"dataframe\">\n",
       "  <thead>\n",
       "    <tr style=\"text-align: right;\">\n",
       "      <th></th>\n",
       "      <th>Network</th>\n",
       "      <th>Station</th>\n",
       "      <th>Latitude</th>\n",
       "      <th>Longitude</th>\n",
       "      <th>Elevation</th>\n",
       "      <th>Sitename</th>\n",
       "      <th>StartTime</th>\n",
       "      <th>EndTime</th>\n",
       "    </tr>\n",
       "  </thead>\n",
       "  <tbody>\n",
       "    <tr>\n",
       "      <th>0</th>\n",
       "      <td>#DATACENTER=IRISDMC,http://ds.iris.edu</td>\n",
       "      <td>NaN</td>\n",
       "      <td>NaN</td>\n",
       "      <td>NaN</td>\n",
       "      <td>NaN</td>\n",
       "      <td>NaN</td>\n",
       "      <td>NaN</td>\n",
       "      <td>NaN</td>\n",
       "    </tr>\n",
       "    <tr>\n",
       "      <th>1</th>\n",
       "      <td>3H</td>\n",
       "      <td>A1</td>\n",
       "      <td>41.399753</td>\n",
       "      <td>-122.052204</td>\n",
       "      <td>1542.56</td>\n",
       "      <td>Ash Creek Line Station 1</td>\n",
       "      <td>2021-09-25T18:55:38</td>\n",
       "      <td>2021-11-03T18:29:20</td>\n",
       "    </tr>\n",
       "    <tr>\n",
       "      <th>2</th>\n",
       "      <td>3H</td>\n",
       "      <td>A2</td>\n",
       "      <td>41.402472</td>\n",
       "      <td>-122.061808</td>\n",
       "      <td>1573.78</td>\n",
       "      <td>Ash Creek Line Station 2</td>\n",
       "      <td>2021-09-25T18:35:34</td>\n",
       "      <td>2021-11-03T22:48:22</td>\n",
       "    </tr>\n",
       "    <tr>\n",
       "      <th>3</th>\n",
       "      <td>3H</td>\n",
       "      <td>A3</td>\n",
       "      <td>41.405327</td>\n",
       "      <td>-122.068338</td>\n",
       "      <td>1612.96</td>\n",
       "      <td>Ash Creek Line Station 3</td>\n",
       "      <td>2021-09-25T18:04:38</td>\n",
       "      <td>2021-11-03T18:17:02</td>\n",
       "    </tr>\n",
       "    <tr>\n",
       "      <th>4</th>\n",
       "      <td>3H</td>\n",
       "      <td>A4</td>\n",
       "      <td>41.403222</td>\n",
       "      <td>-122.080329</td>\n",
       "      <td>1683.63</td>\n",
       "      <td>Ash Creek Line Station 4</td>\n",
       "      <td>2021-09-25T17:38:28</td>\n",
       "      <td>2021-10-28T13:25:40</td>\n",
       "    </tr>\n",
       "  </tbody>\n",
       "</table>\n",
       "</div>"
      ],
      "text/plain": [
       "                                 Network   Station    Latitude    Longitude   \\\n",
       "0  #DATACENTER=IRISDMC,http://ds.iris.edu       NaN         NaN          NaN   \n",
       "1                                      3H        A1   41.399753  -122.052204   \n",
       "2                                      3H        A2   41.402472  -122.061808   \n",
       "3                                      3H        A3   41.405327  -122.068338   \n",
       "4                                      3H        A4   41.403222  -122.080329   \n",
       "\n",
       "    Elevation                  Sitename            StartTime   \\\n",
       "0          NaN                       NaN                  NaN   \n",
       "1      1542.56  Ash Creek Line Station 1  2021-09-25T18:55:38   \n",
       "2      1573.78  Ash Creek Line Station 2  2021-09-25T18:35:34   \n",
       "3      1612.96  Ash Creek Line Station 3  2021-09-25T18:04:38   \n",
       "4      1683.63  Ash Creek Line Station 4  2021-09-25T17:38:28   \n",
       "\n",
       "               EndTime  \n",
       "0                  NaN  \n",
       "1  2021-11-03T18:29:20  \n",
       "2  2021-11-03T22:48:22  \n",
       "3  2021-11-03T18:17:02  \n",
       "4  2021-10-28T13:25:40  "
      ]
     },
     "execution_count": 6,
     "metadata": {},
     "output_type": "execute_result"
    }
   ],
   "source": [
    "#check the data\n",
    "data.head()"
   ]
  },
  {
   "cell_type": "code",
   "execution_count": 10,
   "id": "3721ac43-b866-4e10-9e79-012ea01e0633",
   "metadata": {},
   "outputs": [
    {
     "data": {
      "text/plain": [
       "Index(['Network ', ' Station ', ' Latitude ', ' Longitude ', ' Elevation ',\n",
       "       ' Sitename ', ' StartTime ', ' EndTime'],\n",
       "      dtype='object')"
      ]
     },
     "execution_count": 10,
     "metadata": {},
     "output_type": "execute_result"
    }
   ],
   "source": [
    "data.columns"
   ]
  },
  {
   "cell_type": "code",
   "execution_count": 22,
   "id": "286ee7bf-098c-4b9c-a629-b133d5e23f70",
   "metadata": {},
   "outputs": [],
   "source": [
    "# Identify unique values in the target column (Column 1 in this case)\n",
    "#first get the column name, bcoz they contain some random spaces before/after them\n",
    "column_1_name = data.columns[0] \n",
    "networks = data[column_name].unique()"
   ]
  },
  {
   "cell_type": "code",
   "execution_count": 23,
   "id": "57da39c0-1546-4ba3-8459-48009c41473f",
   "metadata": {},
   "outputs": [
    {
     "data": {
      "text/plain": [
       "array(['3H', '4P', '5E', '7D', 'BK', 'EM', 'GM', 'NC', 'NN', 'NP', 'PB',\n",
       "       'RE', 'TA', 'US', 'XE', 'XQ', 'Z5', 'XS', 'CE', 'WR', 'AM'],\n",
       "      dtype=object)"
      ]
     },
     "execution_count": 23,
     "metadata": {},
     "output_type": "execute_result"
    }
   ],
   "source": [
    "networks"
   ]
  },
  {
   "cell_type": "code",
   "execution_count": 24,
   "id": "569a2fc4-f810-4447-a701-6a2fbe2cc368",
   "metadata": {},
   "outputs": [],
   "source": [
    "# #now we write out each network stations to a separate csv/txt file using a for loop\n",
    "\n",
    "# for network in networks:\n",
    "#     sts_in_net = data[data[column_1_name] == netzork]\n",
    "#     output_filename = f'{network}_stations.txt'\n",
    "#     sts_in_net.to_csv(output_filename, index = False)"
   ]
  },
  {
   "cell_type": "code",
   "execution_count": null,
   "id": "1a7b5f12-e479-4fc2-8ddf-80df826ab61f",
   "metadata": {},
   "outputs": [],
   "source": []
  }
 ],
 "metadata": {
  "kernelspec": {
   "display_name": "Python 3 (ipykernel)",
   "language": "python",
   "name": "python3"
  },
  "language_info": {
   "codemirror_mode": {
    "name": "ipython",
    "version": 3
   },
   "file_extension": ".py",
   "mimetype": "text/x-python",
   "name": "python",
   "nbconvert_exporter": "python",
   "pygments_lexer": "ipython3",
   "version": "3.10.12"
  }
 },
 "nbformat": 4,
 "nbformat_minor": 5
}
