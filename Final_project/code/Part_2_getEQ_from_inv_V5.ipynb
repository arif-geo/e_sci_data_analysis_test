{
 "cells": [
  {
   "cell_type": "markdown",
   "metadata": {},
   "source": [
    "# Download the inventory data for the following criterias\n",
    "Select an earthquake event (by id).\\\n",
    "Get the station inventory within the study area which recorded this event.\\\n",
    "Use this station inventory data to download earthquake data (`.mseed`) and station data (`.txt` or `.xml` format).\\\n",
    "3-channel data for earthquakes are along x, y and z axis. Usually named as HHE, HHN and HHZ or HH1, HH2, HHZ.\\\n",
    "I want to select the following channels in order. If the 1st one is available, get that one only and stop. If not search for the 2nd one and so on.\n",
    "1. HH*\n",
    "2. BH*\n",
    "3. HN*\n",
    "4. EH* \\\n",
    "Lastly, \n"
   ]
  },
  {
   "cell_type": "code",
   "execution_count": 1,
   "metadata": {},
   "outputs": [],
   "source": [
    "import os\n",
    "import time\n",
    "import pandas as pd\n",
    "from obspy.clients.fdsn import Client\n",
    "from obspy import UTCDateTime, read_inventory, Inventory, read, Stream"
   ]
  },
  {
   "cell_type": "code",
   "execution_count": 3,
   "metadata": {},
   "outputs": [
    {
     "name": "stdout",
     "output_type": "stream",
     "text": [
      "           id   mag                              time\n",
      "0  nc72086051  4.94  2013-10-11 23:05:37.330000+00:00\n",
      "Selected event index: 0\n",
      "Selected event: nc72086051, mag: 4.94 in grid 3\n",
      "Event nc72086051 already downloaded. Skipping...\n",
      "           id   mag                              time\n",
      "0  nc73139366  4.19  2019-02-03 23:43:21.810000+00:00\n",
      "1  nc73139111  4.30  2019-02-02 10:52:21.990000+00:00\n",
      "2  nc73201181  5.58  2019-06-23 03:53:02.890000+00:00\n",
      "3  nc73133256  4.08  2019-01-15 20:20:20.120000+00:00\n",
      "4  nc72820761  4.03  2017-06-24 21:22:03.060000+00:00\n",
      "Selected event index: 2\n",
      "Selected event: nc73201181, mag: 5.58 in grid 6\n"
     ]
    }
   ],
   "source": [
    "\n",
    "# Read earthquake data\n",
    "eqdf = pd.read_csv(\"../data/above_slab_eq_df.csv\", parse_dates=[\"time\"])\n",
    "eqdf4 = eqdf[eqdf.mag >= 4].reset_index(drop=True)\n",
    "\n",
    "# Extract unique grid codes\n",
    "unique_grid_codes = eqdf4['grid_code'].unique()\n",
    "\n",
    "# Loop through each grid code\n",
    "for i in range(len(unique_grid_codes)):\n",
    "    temp_df = eqdf4[eqdf4.grid_code == unique_grid_codes[i]].reset_index(drop=True) # select events in the grid\n",
    "\n",
    "    # Check if there are events in the grid\n",
    "    if len(temp_df) > 0:\n",
    "        print(temp_df[['id', 'mag', 'time']])\n",
    "        # Select the event with maximum magnitude\n",
    "        eq_idx = temp_df['mag'].idxmax()\n",
    "        print(f\"Selected event index: {eq_idx}\")\n",
    "\n",
    "        # get the details of the event\n",
    "        eq = temp_df.iloc[eq_idx]\n",
    "        event_id = eq['id']\n",
    "        print(f\"Selected event: {event_id}, mag: {eq['mag']} in grid {unique_grid_codes[i]}\")\n",
    "\n",
    "        # if an event is already downloaded, skip\n",
    "        if os.path.exists(f\"../data/eq_data/{event_id}/inventory/station_inventory_{event_id}.xml\"):\n",
    "            print(f\"Event {event_id} already downloaded. Skipping...\")\n",
    "            continue\n",
    "\n",
    "        # Get event time\n",
    "        event_time = UTCDateTime(pd.to_datetime(eq.time))\n",
    "        starttime = event_time - 30\n",
    "        endtime = event_time + 120\n",
    "\n",
    "        # define the datacenters and channel list\n",
    "        client_list = ['IRIS', 'NCEDC', 'SCEDC']\n",
    "        channel_list = 'HH*,BH*,HN*,EH*' # select broadband and high sample rate channels\n",
    "\n",
    "        # Create a folder for the event\n",
    "        output_folder = f\"../data/eq_data/{event_id}/inventory\"\n",
    "        os.makedirs(output_folder, exist_ok=True)\n",
    "\n",
    "        merged_inventory = Inventory()\n",
    "\n",
    "        # Loop through each client (IRIS, NCEDC, SCEDC data centers)\n",
    "        for client_name in client_list:\n",
    "            client = Client(client_name, debug=False, timeout=3600)\n",
    "            try:\n",
    "                inv = client.get_stations(\n",
    "                    network=\"*\",\n",
    "                    station=\"*\",\n",
    "                    location=\"*\",\n",
    "                    channel=channel_list,\n",
    "                    starttime=starttime,\n",
    "                    endtime=endtime,\n",
    "                    level=\"channel\",\n",
    "                    minlatitude=39.75,\n",
    "                    maxlatitude=41.5,\n",
    "                    minlongitude=-125,\n",
    "                    maxlongitude=-123,\n",
    "                )\n",
    "                merged_inventory.networks.extend(inv.networks)\n",
    "                merged_inventory = merged_inventory.remove(network=\"SY\")\n",
    "\n",
    "                # Write the inventory to files\n",
    "                # inv.write(f\"{output_folder}/{event_id}_{client_name}.xml\", format=\"STATIONXML\")\n",
    "                # inv.write(f\"{output_folder}/{event_id}_{client_name}.txt\", format=\"STATIONTXT\")\n",
    "\n",
    "            except Exception as e:\n",
    "                print(f\"Error fetching data from {client_name}: {e}\")    \n",
    "\n",
    "        break # test with only one grid\n",
    "        \n",
    "        # write the whole inventory to a file\n",
    "        merged_inventory.write(f\"{output_folder}/station_inventory_{event_id}.xml\", format=\"STATIONXML\")\n",
    "        \n",
    "    else:\n",
    "        print(f\"No events in grid code {unique_grid_codes[i]}\")\n",
    "        continue\n"
   ]
  },
  {
   "cell_type": "markdown",
   "metadata": {},
   "source": [
    "# Read the inventory files already downloaded \n",
    "# And download `.mseed` and station_data (`.xml & .txt`)\n",
    "\n",
    "Here I will read the inventory file which contain details about all the stations that recorded a particular earthquake event. \\\n",
    "From that inventory file I will get all the necessary informations I need to download the seismic data (a numpy timeseries in `.mseed` format). \\\n",
    "I will also download the metadata for that record in `.xml & .txt` formats.\\\n",
    "\n",
    "This process will use `multiprocessing.Pool.imap_unordered` module for paraller processing of the download.\\\n",
    "For the code see `./code/my_funcs/get_waveforms_parallel_v3.py` where I defined the download fuction combined with parallel processing. \\\n",
    "This significantly improves the runtime.\n"
   ]
  },
  {
   "cell_type": "code",
   "execution_count": 5,
   "metadata": {},
   "outputs": [
    {
     "name": "stdout",
     "output_type": "stream",
     "text": [
      "The autoreload extension is already loaded. To reload it, use:\n",
      "  %reload_ext autoreload\n",
      "Getting data for event nc73201181\n",
      "Fetching data from NCEDC...\n",
      "Fetching data from IRIS...\n"
     ]
    },
    {
     "name": "stderr",
     "output_type": "stream",
     "text": [
      "  2%|▏         | 2/108 [00:02<02:29,  1.41s/it]"
     ]
    },
    {
     "name": "stdout",
     "output_type": "stream",
     "text": [
      "successful stream and inv: CE.79435.HN*\n",
      "successful stream and inv: CE.79036.HN*\n",
      "successful stream and inv: BK.PETL.HH*\n",
      "successful stream and inv: BK.BRIC.HH*\n",
      "successful stream and inv: BK.JCC.HH*\n"
     ]
    },
    {
     "name": "stderr",
     "output_type": "stream",
     "text": [
      "  5%|▍         | 5/108 [00:03<00:52,  1.95it/s]"
     ]
    },
    {
     "name": "stdout",
     "output_type": "stream",
     "text": [
      "successful stream and inv: CE.89101.HN*\n"
     ]
    },
    {
     "name": "stderr",
     "output_type": "stream",
     "text": [
      "  6%|▌         | 6/108 [00:04<01:19,  1.29it/s]"
     ]
    },
    {
     "name": "stdout",
     "output_type": "stream",
     "text": [
      "successful stream and inv: CE.89255.HN*\n",
      "successful stream and inv: BK.PETL.BH*\n",
      "successful stream and inv: BK.BRIC.BH*\n",
      "successful stream and inv: BK.JCC.BH*\n"
     ]
    },
    {
     "name": "stderr",
     "output_type": "stream",
     "text": [
      "  6%|▋         | 7/108 [00:05<01:07,  1.49it/s]"
     ]
    },
    {
     "name": "stdout",
     "output_type": "stream",
     "text": [
      "successful stream and inv: CE.89462.HN*\n"
     ]
    },
    {
     "name": "stderr",
     "output_type": "stream",
     "text": [
      "  8%|▊         | 9/108 [00:05<00:40,  2.42it/s]"
     ]
    },
    {
     "name": "stdout",
     "output_type": "stream",
     "text": [
      "successful stream and inv: CE.89464.HN*\n"
     ]
    },
    {
     "name": "stderr",
     "output_type": "stream",
     "text": [
      " 15%|█▍        | 16/108 [00:07<00:23,  3.95it/s]"
     ]
    },
    {
     "name": "stdout",
     "output_type": "stream",
     "text": [
      "successful stream and inv: BK.JCC.HN*\n",
      "successful stream and inv: BK.PETL.HN*\n"
     ]
    },
    {
     "name": "stderr",
     "output_type": "stream",
     "text": [
      " 18%|█▊        | 19/108 [00:07<00:18,  4.88it/s]"
     ]
    },
    {
     "name": "stdout",
     "output_type": "stream",
     "text": [
      "successful stream and inv: BK.BRIC.HN*\n"
     ]
    },
    {
     "name": "stderr",
     "output_type": "stream",
     "text": [
      " 19%|█▊        | 20/108 [00:07<00:17,  5.16it/s]"
     ]
    },
    {
     "name": "stdout",
     "output_type": "stream",
     "text": [
      "successful stream and inv: CE.89781.HN*\n"
     ]
    },
    {
     "name": "stderr",
     "output_type": "stream",
     "text": [
      " 19%|█▉        | 21/108 [00:08<00:30,  2.84it/s]"
     ]
    },
    {
     "name": "stdout",
     "output_type": "stream",
     "text": [
      "successful stream and inv: NC.KBN.EH*\n",
      "successful stream and inv: NC.KBS.EH*\n"
     ]
    },
    {
     "name": "stderr",
     "output_type": "stream",
     "text": [
      " 22%|██▏       | 24/108 [00:09<00:23,  3.57it/s]"
     ]
    },
    {
     "name": "stdout",
     "output_type": "stream",
     "text": [
      "successful stream and inv: NC.KBU.HN*\n",
      "successful stream and inv: NC.KCR.EH*\n",
      "successful stream and inv: NC.KCS.EH*\n",
      "successful stream and inv: NC.KCO.HN*\n",
      "successful stream and inv: NC.KCT.HH*\n"
     ]
    },
    {
     "name": "stderr",
     "output_type": "stream",
     "text": [
      " 23%|██▎       | 25/108 [00:10<00:49,  1.67it/s]"
     ]
    },
    {
     "name": "stdout",
     "output_type": "stream",
     "text": [
      "successful stream and inv: NC.KHBB.HH*\n",
      "successful stream and inv: NC.KBU.EH*\n",
      "successful stream and inv: NC.KIP.EH*\n"
     ]
    },
    {
     "name": "stderr",
     "output_type": "stream",
     "text": [
      " 25%|██▌       | 27/108 [00:11<00:34,  2.38it/s]"
     ]
    },
    {
     "name": "stdout",
     "output_type": "stream",
     "text": [
      "successful stream and inv: NC.KHMB.HH*\n",
      "successful stream and inv: NC.KCO.EH*\n"
     ]
    },
    {
     "name": "stderr",
     "output_type": "stream",
     "text": [
      " 27%|██▋       | 29/108 [00:12<00:37,  2.09it/s]"
     ]
    },
    {
     "name": "stdout",
     "output_type": "stream",
     "text": [
      "successful stream and inv: NC.KCT.HN*\n",
      "successful stream and inv: NC.KKP.EH*\n"
     ]
    },
    {
     "name": "stderr",
     "output_type": "stream",
     "text": [
      " 28%|██▊       | 30/108 [00:12<00:30,  2.53it/s]"
     ]
    },
    {
     "name": "stdout",
     "output_type": "stream",
     "text": [
      "successful stream and inv: NC.KHBB.HN*\n"
     ]
    },
    {
     "name": "stderr",
     "output_type": "stream",
     "text": [
      " 29%|██▊       | 31/108 [00:12<00:30,  2.56it/s]"
     ]
    },
    {
     "name": "stdout",
     "output_type": "stream",
     "text": [
      "successful stream and inv: NC.KHMB.HN*\n",
      "successful stream and inv: NC.KMPB.HH*\n",
      "successful stream and inv: NC.KMR.HH*\n"
     ]
    },
    {
     "name": "stderr",
     "output_type": "stream",
     "text": [
      " 30%|██▉       | 32/108 [00:14<00:52,  1.44it/s]"
     ]
    },
    {
     "name": "stdout",
     "output_type": "stream",
     "text": [
      "successful stream and inv: NC.KOM.HN*\n",
      "successful stream and inv: NC.KPP.EH*\n",
      "successful stream and inv: NC.KPR.HN*\n"
     ]
    },
    {
     "name": "stderr",
     "output_type": "stream",
     "text": [
      " 31%|███       | 33/108 [00:15<00:59,  1.26it/s]"
     ]
    },
    {
     "name": "stdout",
     "output_type": "stream",
     "text": [
      "successful stream and inv: NC.KMPB.HN*\n",
      "successful stream and inv: NC.KMR.HN*\n"
     ]
    },
    {
     "name": "stderr",
     "output_type": "stream",
     "text": [
      " 31%|███▏      | 34/108 [00:15<00:46,  1.61it/s]"
     ]
    },
    {
     "name": "stdout",
     "output_type": "stream",
     "text": [
      "successful stream and inv: NC.KRP.HH*\n"
     ]
    },
    {
     "name": "stderr",
     "output_type": "stream",
     "text": [
      " 33%|███▎      | 36/108 [00:16<00:31,  2.30it/s]"
     ]
    },
    {
     "name": "stdout",
     "output_type": "stream",
     "text": [
      "successful stream and inv: NC.KSM.EH*\n",
      "successful stream and inv: NC.KOM.EH*\n"
     ]
    },
    {
     "name": "stderr",
     "output_type": "stream",
     "text": [
      " 34%|███▍      | 37/108 [00:16<00:32,  2.19it/s]"
     ]
    },
    {
     "name": "stdout",
     "output_type": "stream",
     "text": [
      "successful stream and inv: NC.KPR.EH*\n"
     ]
    },
    {
     "name": "stderr",
     "output_type": "stream",
     "text": [
      " 36%|███▌      | 39/108 [00:17<00:30,  2.23it/s]"
     ]
    },
    {
     "name": "stdout",
     "output_type": "stream",
     "text": [
      "successful stream and inv: NC.KRP.HN*\n",
      "successful stream and inv: NP.1023.HN*\n"
     ]
    },
    {
     "name": "stderr",
     "output_type": "stream",
     "text": [
      " 37%|███▋      | 40/108 [00:17<00:23,  2.84it/s]"
     ]
    },
    {
     "name": "stdout",
     "output_type": "stream",
     "text": [
      "successful stream and inv: NP.1580.HN*\n"
     ]
    },
    {
     "name": "stderr",
     "output_type": "stream",
     "text": [
      " 39%|███▉      | 42/108 [00:18<00:18,  3.59it/s]"
     ]
    },
    {
     "name": "stdout",
     "output_type": "stream",
     "text": [
      "successful stream and inv: NP.1581.HN*\n",
      "successful stream and inv: NP.1582.HN*\n"
     ]
    },
    {
     "name": "stderr",
     "output_type": "stream",
     "text": [
      " 41%|████      | 44/108 [00:18<00:23,  2.74it/s]"
     ]
    },
    {
     "name": "stdout",
     "output_type": "stream",
     "text": [
      "successful stream and inv: NP.1584.HN*\n"
     ]
    },
    {
     "name": "stderr",
     "output_type": "stream",
     "text": [
      " 42%|████▏     | 45/108 [00:19<00:26,  2.39it/s]"
     ]
    },
    {
     "name": "stdout",
     "output_type": "stream",
     "text": [
      "successful stream and inv: NP.1586.HN*\n"
     ]
    },
    {
     "name": "stderr",
     "output_type": "stream",
     "text": [
      " 43%|████▎     | 46/108 [00:19<00:25,  2.39it/s]"
     ]
    },
    {
     "name": "stdout",
     "output_type": "stream",
     "text": [
      "successful stream and inv: PB.B045.EH*\n",
      "successful stream and inv: NP.1591.HN*\n",
      "successful stream and inv: PB.B046.EH*\n"
     ]
    },
    {
     "name": "stderr",
     "output_type": "stream",
     "text": [
      " 45%|████▌     | 49/108 [00:20<00:13,  4.30it/s]"
     ]
    },
    {
     "name": "stdout",
     "output_type": "stream",
     "text": [
      "successful stream and inv: PB.B047.EH*\n"
     ]
    },
    {
     "name": "stderr",
     "output_type": "stream",
     "text": [
      " 46%|████▋     | 50/108 [00:20<00:18,  3.18it/s]"
     ]
    },
    {
     "name": "stdout",
     "output_type": "stream",
     "text": [
      "successful stream and inv: PB.B049.EH*\n"
     ]
    },
    {
     "name": "stderr",
     "output_type": "stream",
     "text": [
      " 47%|████▋     | 51/108 [00:21<00:22,  2.57it/s]"
     ]
    },
    {
     "name": "stdout",
     "output_type": "stream",
     "text": [
      "successful stream and inv: PB.B932.EH*\n"
     ]
    },
    {
     "name": "stderr",
     "output_type": "stream",
     "text": [
      " 50%|█████     | 54/108 [00:22<00:14,  3.64it/s]"
     ]
    },
    {
     "name": "stdout",
     "output_type": "stream",
     "text": [
      "successful stream and inv: PB.B935.EH*\n",
      "successful stream and inv: PB.B933.EH*\n",
      "successful stream and inv: PB.B934.EH*\n"
     ]
    },
    {
     "name": "stderr",
     "output_type": "stream",
     "text": [
      " 94%|█████████▎| 101/108 [00:28<00:01,  4.74it/s]"
     ]
    },
    {
     "name": "stdout",
     "output_type": "stream",
     "text": [
      "successful stream and inv: PB.B045.EH*\n",
      "successful stream and inv: PB.B046.EH*\n"
     ]
    },
    {
     "name": "stderr",
     "output_type": "stream",
     "text": [
      " 95%|█████████▌| 103/108 [00:28<00:00,  5.49it/s]"
     ]
    },
    {
     "name": "stdout",
     "output_type": "stream",
     "text": [
      "successful stream and inv: PB.B047.EH*\n"
     ]
    },
    {
     "name": "stderr",
     "output_type": "stream",
     "text": [
      " 97%|█████████▋| 105/108 [00:28<00:00,  4.77it/s]"
     ]
    },
    {
     "name": "stdout",
     "output_type": "stream",
     "text": [
      "successful stream and inv: PB.B049.EH*\n",
      "successful stream and inv: PB.B932.EH*\n",
      "successful stream and inv: PB.B933.EH*\n"
     ]
    },
    {
     "name": "stderr",
     "output_type": "stream",
     "text": [
      "100%|██████████| 108/108 [00:29<00:00,  3.66it/s]"
     ]
    },
    {
     "name": "stdout",
     "output_type": "stream",
     "text": [
      "successful stream and inv: PB.B935.EH*\n",
      "successful stream and inv: PB.B934.EH*\n"
     ]
    },
    {
     "name": "stderr",
     "output_type": "stream",
     "text": [
      "\n",
      "/Users/mdarifulislam/miniconda3/envs/obspy/lib/python3.10/site-packages/obspy/imaging/util.py:266: UserWarning: AutoDateLocator was unable to pick an appropriate interval for this date range. It may be necessary to add an interval value to the AutoDateLocator's intervald dictionary. Defaulting to 30.\n",
      "  plt.setp(ax.get_xticklabels(), fontsize='small')\n",
      "/Users/mdarifulislam/miniconda3/envs/obspy/lib/python3.10/site-packages/obspy/imaging/waveform.py:815: UserWarning: AutoDateLocator was unable to pick an appropriate interval for this date range. It may be necessary to add an interval value to the AutoDateLocator's intervald dictionary. Defaulting to 30.\n",
      "  plt.setp(ax.get_xticklabels(), fontsize='small',\n"
     ]
    },
    {
     "data": {
      "image/png": "[encoded data removed]",
      "text/plain": [
       "<Figure size 800x250 with 1 Axes>"
      ]
     },
     "metadata": {},
     "output_type": "display_data"
    },
    {
     "ename": "TypeError",
     "evalue": "cannot unpack non-iterable NoneType object",
     "output_type": "error",
     "traceback": [
      "\u001b[0;31m---------------------------------------------------------------------------\u001b[0m",
      "\u001b[0;31mTypeError\u001b[0m                                 Traceback (most recent call last)",
      "Cell \u001b[0;32mIn[5], line 50\u001b[0m\n\u001b[1;32m     47\u001b[0m endtime \u001b[38;5;241m=\u001b[39m event_time \u001b[38;5;241m+\u001b[39m \u001b[38;5;241m120\u001b[39m \u001b[38;5;66;03m# end time is 120 seconds after the event time\u001b[39;00m\n\u001b[1;32m     49\u001b[0m \u001b[38;5;66;03m# Call the function with the desired parameters\u001b[39;00m\n\u001b[0;32m---> 50\u001b[0m st, inv \u001b[38;5;241m=\u001b[39m get_waveforms_parallel(client_list, inventory, starttime, endtime, output_folder, priority_channels)\n\u001b[1;32m     52\u001b[0m \u001b[38;5;66;03m# Write waveforms to file\u001b[39;00m\n\u001b[1;32m     53\u001b[0m \u001b[38;5;66;03m# st.write(f\"{output_folder}/event_waveforms.mseed\", format=\"MSEED\")\u001b[39;00m\n\u001b[1;32m     54\u001b[0m \u001b[38;5;66;03m# inv.write(f\"{output_folder}/event_inventory.xml\", format=\"STATIONXML\")\u001b[39;00m\n\u001b[1;32m     55\u001b[0m \u001b[38;5;66;03m# inv.write(f\"{output_folder}/event_inventory.txt\", format=\"STATIONTXT\")\u001b[39;00m\n",
      "\u001b[0;31mTypeError\u001b[0m: cannot unpack non-iterable NoneType object"
     ]
    }
   ],
   "source": [
    "# reload the module to get the latest changes\n",
    "import sys\n",
    "sys.path.append('./my_funcs')\n",
    "%load_ext autoreload\n",
    "%autoreload 2\n",
    "%reload_ext autoreload\n",
    "\n",
    "import glob\n",
    "import os \n",
    "# import all the `get_waveforms` function\n",
    "from my_funcs.get_waveforms_parallel_v3 import *\n",
    "\n",
    "# define the client list i.e. the data centers to download data from\n",
    "client_list = ['NCEDC', 'IRIS'] #, 'SCEDC']\n",
    "\n",
    "# get a list of all the event id folders\n",
    "event_paths = glob.glob(\"../data/eq_data/*\")\n",
    "event_ids = [os.path.basename(path) for path in event_paths]\n",
    "\n",
    "# Read earthquake data\n",
    "eqdf = pd.read_csv(\"../data/above_slab_eq_df.csv\", parse_dates=[\"time\"])\n",
    "\n",
    "# define the priority channels\n",
    "priority_channels = ['HH*', 'BH*', 'HN*', 'EH*']\n",
    "\n",
    "event_ids = ['nc73201181'] # test with one event #################################### change it ####################\n",
    "# loop through each event id and download the data\n",
    "for event_id in event_ids:\n",
    "\n",
    "    # define the output folder\n",
    "    output_folder = f\"../data/eq_data/{event_id}/\"\n",
    "\n",
    "    # check if the event data is already downloaded\n",
    "    if os.path.exists(f\"../data/eq_data/{event_id}/{event_id}.mseed\"):\n",
    "        print(f\"Event {event_id} already downloaded. Skipping...\")\n",
    "        continue\n",
    "\n",
    "    print(f\"Getting data for event {event_id}\")\n",
    "\n",
    "    # Read the inventory\n",
    "    inventory = read_inventory(f\"../data/eq_data/{event_id}/inventory/station_inventory_{event_id}.xml\")\n",
    "\n",
    "    #get the event time, start time and end time\n",
    "    eq = eqdf[eqdf.id == event_id] # get the event details\n",
    "    event_time = UTCDateTime(pd.to_datetime(eq.time.values[0])) # get the event time in UTC format\n",
    "    starttime = event_time - 30 # start time is 30 seconds before the event time\n",
    "    endtime = event_time + 120 # end time is 120 seconds after the event time\n",
    "\n",
    "    # Call the function with the desired parameters\n",
    "    # this will downaload and write the data to a file, to change path, edit the function\n",
    "    get_waveforms_parallel(client_list, inventory, starttime, endtime, output_folder, priority_channels)\n"
   ]
  },
  {
   "attachments": {
    "image.png": {
     "image/png": "[encoded data removed]"
    }
   },
   "cell_type": "markdown",
   "metadata": {},
   "source": [
    "# This code will result in a plot like this:\n",
    "(This is only for one station and its 3 channels)\n",
    "![image.png](attachment:image.png)"
   ]
  }
 ],
 "metadata": {
  "kernelspec": {
   "display_name": "obspy",
   "language": "python",
   "name": "python3"
  },
  "language_info": {
   "codemirror_mode": {
    "name": "ipython",
    "version": 3
   },
   "file_extension": ".py",
   "mimetype": "text/x-python",
   "name": "python",
   "nbconvert_exporter": "python",
   "pygments_lexer": "ipython3",
   "version": "3.10.13"
  }
 },
 "nbformat": 4,
 "nbformat_minor": 2
}
