{
 "cells": [
  {
   "cell_type": "markdown",
   "metadata": {},
   "source": [
    "# 7-1:\n",
    "Shape of a 2D array is expressed as (x, y), where x is number of rows and y is number of columns. This array will have x*y elements. "
   ]
  },
  {
   "cell_type": "markdown",
   "metadata": {},
   "source": [
    "# 7-2:\n",
    "To obtain the shape of the array we can use : `np.shape(ppm)` \n",
    "Shape of `ppm` is `(3, 4)`"
   ]
  },
  {
   "cell_type": "markdown",
   "metadata": {},
   "source": [
    "# 7-3:\n",
    "`values = np.zeros((3, 2), dtype=int64)`"
   ]
  },
  {
   "cell_type": "markdown",
   "metadata": {},
   "source": [
    "# 7-4:"
   ]
  },
  {
   "cell_type": "code",
   "execution_count": 28,
   "metadata": {},
   "outputs": [
    {
     "data": {
      "text/plain": [
       "array([[0., 1., 2., 3.],\n",
       "       [4., 5., 6., 7.]])"
      ]
     },
     "execution_count": 28,
     "metadata": {},
     "output_type": "execute_result"
    }
   ],
   "source": [
    "import numpy as np\n",
    "factors = np.arange(0,8, dtype='float')\n",
    "factors = np.reshape(factors, (2, 4))\n",
    "factors"
   ]
  },
  {
   "cell_type": "markdown",
   "metadata": {},
   "source": [
    "# 7-5:"
   ]
  },
  {
   "cell_type": "code",
   "execution_count": 29,
   "metadata": {},
   "outputs": [
    {
     "data": {
      "text/plain": [
       "array([[7., 7., 7., 7., 7.],\n",
       "       [7., 7., 7., 7., 7.],\n",
       "       [7., 7., 7., 7., 7.]])"
      ]
     },
     "execution_count": 29,
     "metadata": {},
     "output_type": "execute_result"
    }
   ],
   "source": [
    "zeros = np.zeros((3, 5))\n",
    "sevens = zeros + 7\n",
    "sevens"
   ]
  },
  {
   "cell_type": "markdown",
   "metadata": {},
   "source": [
    "# 7-6:\n"
   ]
  },
  {
   "cell_type": "code",
   "execution_count": 35,
   "metadata": {},
   "outputs": [],
   "source": [
    "value = factors[1, 2]\n",
    "\n",
    "first_row = factors[0]\n",
    "\n",
    "subset = factors[:, [1, 2]]\n",
    "\n",
    "factors[0, 0:3] = factors[1, 1:]"
   ]
  },
  {
   "cell_type": "markdown",
   "metadata": {},
   "source": [
    "# 7-7:"
   ]
  },
  {
   "cell_type": "code",
   "execution_count": 40,
   "metadata": {},
   "outputs": [
    {
     "data": {
      "text/plain": [
       "array([[0.00208 , 0.002071, 0.002172, 0.001881],\n",
       "       [0.001991, 0.001842, 0.002073, 0.002032],\n",
       "       [0.001732, 0.002174, 0.002319, 0.001998]])"
      ]
     },
     "execution_count": 40,
     "metadata": {},
     "output_type": "execute_result"
    }
   ],
   "source": [
    "ppm = np.array([[ 20.80, 20.71, 21.72, 18.81],\n",
    "                   [ 19.91, 18.42, 20.73, 20.32],\n",
    "                   [ 17.32, 21.74, 23.19, 19.98]])\n",
    "\n",
    "# convert ppm to ppm by dividing each element by 10e3\n",
    "ppb = ppm/10e3\n",
    "ppb"
   ]
  },
  {
   "cell_type": "markdown",
   "metadata": {},
   "source": [
    "# 7-8:"
   ]
  },
  {
   "cell_type": "code",
   "execution_count": 42,
   "metadata": {},
   "outputs": [],
   "source": [
    "data1 = np.array([[]])\n",
    "data2 = np.array([[]])\n",
    "\n",
    "avg_between_both = 0.5 * (data1 + data2)"
   ]
  },
  {
   "cell_type": "markdown",
   "metadata": {},
   "source": [
    "# 7-9:"
   ]
  },
  {
   "cell_type": "code",
   "execution_count": 43,
   "metadata": {},
   "outputs": [
    {
     "data": {
      "text/plain": [
       "20.8"
      ]
     },
     "execution_count": 43,
     "metadata": {},
     "output_type": "execute_result"
    }
   ],
   "source": [
    "data3 = ppm\n",
    "# 1st way:\n",
    "max_data3_1 = np.max(data3)\n",
    "\n",
    "# 2nd way:\n",
    "max_data3 = data3[0,0]\n",
    "for i in range(np.shape(data3)[0]):\n",
    "    for j in range(np.shape(data3)[1]):\n",
    "        if j > max_data3:\n",
    "            max_data3 = j\n",
    "\n",
    "        else: \n",
    "            pass\n",
    "max_data3"
   ]
  }
 ],
 "metadata": {
  "kernelspec": {
   "display_name": "obspy",
   "language": "python",
   "name": "python3"
  },
  "language_info": {
   "codemirror_mode": {
    "name": "ipython",
    "version": 3
   },
   "file_extension": ".py",
   "mimetype": "text/x-python",
   "name": "python",
   "nbconvert_exporter": "python",
   "pygments_lexer": "ipython3",
   "version": "3.10.12"
  },
  "orig_nbformat": 4
 },
 "nbformat": 4,
 "nbformat_minor": 2
}
