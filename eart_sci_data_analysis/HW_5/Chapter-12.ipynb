{
 "cells": [
  {
   "cell_type": "markdown",
   "id": "11238bb7-5981-4539-a92a-132871aa8ba0",
   "metadata": {},
   "source": [
    "# Chapter 12"
   ]
  },
  {
   "cell_type": "markdown",
   "id": "9a0f1ca5-06bf-4d67-ac36-92888e579485",
   "metadata": {},
   "source": [
    "## 12-1:\n",
    "\n",
    "- 3 elements for 3-dimensional and 10 elements for a 10-dimensional array"
   ]
  },
  {
   "cell_type": "markdown",
   "id": "60fb6994-a974-478e-ab51-af4c4cff5e27",
   "metadata": {},
   "source": [
    "## 12-2:\n",
    "\n",
    "#third time value, the highest elevation, the fifteenth latitude, and the first longitude \\\n",
    "`asked_value = humidity[2, -1, 14, 0]` \n"
   ]
  },
  {
   "cell_type": "markdown",
   "id": "73000f92-7273-4c08-bbaf-44534d86e91a",
   "metadata": {},
   "source": [
    "## 12-3:\n",
    "\n",
    "`subhumidity = humidity[4:7, : , :4, -1]`"
   ]
  },
  {
   "cell_type": "markdown",
   "id": "d47ecba6-a949-4259-9e24-a28ec83bca24",
   "metadata": {},
   "source": [
    "## 12-4:\n",
    "\n",
    "`humidity_ percent = humidity * 100`"
   ]
  },
  {
   "cell_type": "markdown",
   "id": "8c86e827-34e0-4730-969b-0eb012023287",
   "metadata": {},
   "source": [
    "## 12-5:\n",
    "\n",
    "#since elevation is in 2nd dimension axis=1 \\\n",
    "`sum_elev = np.sum(humidity, axis=1)` \\\n",
    "\\\n",
    "it will have 3 dimensions as well. "
   ]
  },
  {
   "cell_type": "markdown",
   "id": "7f2787c4-9d08-4451-b087-7f1bc007c419",
   "metadata": {},
   "source": [
    "## 12-6:\n",
    "\n",
    "Total number of elements will be same i.e., size or product of all shape elements must be same"
   ]
  },
  {
   "cell_type": "markdown",
   "id": "578acb7c-2f2a-4f11-9c9d-815e31ef7613",
   "metadata": {},
   "source": [
    "## 12-7:\n",
    "\n",
    "`new_humidity = np.reshape(humidity, (humidity.shape[0], humidity.shape[1], humidity.shape[2] * humidity.shape[3]))`\n"
   ]
  },
  {
   "cell_type": "markdown",
   "id": "41531116-afbe-4462-a52b-b8282eb056fc",
   "metadata": {},
   "source": [
    "## 12-8:\n",
    "\n",
    "It's a 4-D array of time, elevation, lat, lon. \n",
    "what element is next to the first element in the array? - this should be the 2nd 3-d array with elevation, lat, lon. \\\n",
    "That is, where is the second element of the array? - I did not get this part."
   ]
  },
  {
   "cell_type": "markdown",
   "id": "897d789a-9af7-41ce-a2e6-c684fc2369c2",
   "metadata": {},
   "source": [
    "## 12-9:\n",
    "\n",
    "np.ravel breaks everything down to 1-D array."
   ]
  },
  {
   "cell_type": "markdown",
   "id": "2a525728-6250-46df-bb10-5096be07c71a",
   "metadata": {},
   "source": [
    "## 12-10:\n",
    "half_len = len(xloc)/2\n",
    "prod_halves = xloc[0:half_len] * xloc[half_len:]"
   ]
  },
  {
   "cell_type": "markdown",
   "id": "66362103-7b72-4e6e-95f0-4854ca12b33d",
   "metadata": {},
   "source": [
    "## 12-11:\n",
    "\n",
    "#find difference by subtracting a subarray with 2nd to last element to another subarray with 1st to the element before the last one. \\\n",
    "diff_time = humidity[1:, :, :, :] - humidity[0:-1, :, :, :]"
   ]
  },
  {
   "cell_type": "markdown",
   "id": "8f43a82f-0ea6-423a-9a7a-3b2334f79b08",
   "metadata": {},
   "source": [
    "## 12-12: \n",
    "Repeat using looping instead of array syntax and selection.\n"
   ]
  },
  {
   "cell_type": "code",
   "execution_count": null,
   "id": "3800d193-b529-4115-aae5-f538c7c32543",
   "metadata": {},
   "outputs": [],
   "source": [
    "#difference shape will be 1 less than original for the 1st dimension\n",
    "\n",
    "diff_shape = humidity.shape\n",
    "diff_shape[0]  = diff_shape[0] - 1\n",
    "\n",
    "#create 4-d array with this shape tuple\n",
    "diff = np.zeros(diff_shape, dtype=humidity.dtype) \\\n",
    "\n",
    "#index each element of this array and subtract time values \\\n",
    "\n",
    "for i in range(diff_shape[0]): \\\n",
    "       for j in range(diff_shape[1]): \\\n",
    "           for k in range(diff_shape[2]): \\\n",
    "               for l in range(diff_shape[3]): \\\n",
    "                   diff[i,j,k,l] = humidity[i+1,j,k,l] - humidity[i,j,k,l]"
   ]
  },
  {
   "cell_type": "markdown",
   "id": "3846b99d-19f6-4c20-8d57-5ccf37c61570",
   "metadata": {},
   "source": [
    "## 12-13: \n",
    "\n",
    "#create an list of 0s with same shape of 1st dimension\n",
    "processed = np.zeros(np.shape[0])\n",
    "\n",
    "#pass each elements into the function\n",
    "\n",
    "for i in range(np.size(processed)): \\\n",
    "> processed[i] = process_humidity(humidity[i,:,:,:])"
   ]
  }
 ],
 "metadata": {
  "kernelspec": {
   "display_name": "Python 3 (ipykernel)",
   "language": "python",
   "name": "python3"
  },
  "language_info": {
   "codemirror_mode": {
    "name": "ipython",
    "version": 3
   },
   "file_extension": ".py",
   "mimetype": "text/x-python",
   "name": "python",
   "nbconvert_exporter": "python",
   "pygments_lexer": "ipython3",
   "version": "3.10.12"
  }
 },
 "nbformat": 4,
 "nbformat_minor": 5
}
