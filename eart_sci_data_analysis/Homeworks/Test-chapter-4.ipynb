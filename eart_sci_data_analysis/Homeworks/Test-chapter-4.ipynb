{
 "cells": [
  {
   "cell_type": "markdown",
   "id": "c85b5dd1-b3a9-4ab2-a1a2-ae9f79f84eb1",
   "metadata": {},
   "source": [
    "# expiriment 1\n",
    "## experiment 2"
   ]
  },
  {
   "cell_type": "markdown",
   "id": "02dae372-e786-4164-93e2-4b865a9cc545",
   "metadata": {},
   "source": [
    "this data is *fake*, this is not **fake**"
   ]
  },
  {
   "cell_type": "markdown",
   "id": "1d9a41ca-e633-44ea-9309-e9212fdec1a3",
   "metadata": {},
   "source": [
    "at [moga](www.mofa.gov.bd)"
   ]
  },
  {
   "cell_type": "markdown",
   "id": "9c53e447-2a92-4956-8332-68ada96ff6ff",
   "metadata": {},
   "source": [
    "* soda\n",
    "* pop\n",
    "* cold\n",
    "1. my\n",
    "2. you\n",
    "3. he "
   ]
  },
  {
   "cell_type": "markdown",
   "id": "324cbded-9acf-4932-a397-8db2d7cac4bb",
   "metadata": {},
   "source": [
    "$v_{x}$"
   ]
  },
  {
   "cell_type": "markdown",
   "id": "bca0fe47-676d-4667-960a-5e41b3ded109",
   "metadata": {},
   "source": [
    "$e^{x}$"
   ]
  },
  {
   "cell_type": "markdown",
   "id": "6fac76d2-62c6-49c6-a959-adb778646dbf",
   "metadata": {},
   "source": [
    "$\\frac{1}{2}$"
   ]
  },
  {
   "cell_type": "markdown",
   "id": "1aa75b1a-1448-477d-b039-a8fcea10d736",
   "metadata": {},
   "source": [
    "$$F = ma$$"
   ]
  },
  {
   "cell_type": "code",
   "execution_count": null,
   "id": "3f3e6334-578f-49c4-958c-cf93be2bc100",
   "metadata": {},
   "outputs": [],
   "source": []
  }
 ],
 "metadata": {
  "kernelspec": {
   "display_name": "Python 3 (ipykernel)",
   "language": "python",
   "name": "python3"
  },
  "language_info": {
   "codemirror_mode": {
    "name": "ipython",
    "version": 3
   },
   "file_extension": ".py",
   "mimetype": "text/x-python",
   "name": "python",
   "nbconvert_exporter": "python",
   "pygments_lexer": "ipython3",
   "version": "3.11.4"
  }
 },
 "nbformat": 4,
 "nbformat_minor": 5
}
