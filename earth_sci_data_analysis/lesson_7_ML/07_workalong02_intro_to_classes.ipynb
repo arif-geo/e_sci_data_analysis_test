{
 "cells": [
  {
   "cell_type": "markdown",
   "metadata": {},
   "source": [
    "<a target=\"_blank\" href=\"https://colab.research.google.com/github/taobrienlbl/advanced_earth_science_data_analysis/blob/spring_2023_iub/lessons/07_machine_learning_intro/07_workalong02_intro_to_classes.ipynb\">\n",
    "  <img src=\"https://colab.research.google.com/assets/colab-badge.svg\" alt=\"Open In Colab\"/>\n",
    "</a>\n",
    "\n",
    "# Intro to *classes* in Python\n",
    "\n",
    "This notebook walks through some demonstrations of classes; it is accompanied by a bit of lecture."
   ]
  },
  {
   "cell_type": "code",
   "execution_count": 38,
   "metadata": {},
   "outputs": [],
   "source": [
    "\"\"\" Define a class called Animal. \"\"\"\n",
    "\n",
    "class Animal():\n",
    "\n",
    "    def __init__(self, limbs=4, eyes=2, tails=0):\n",
    "        self.limbs = limbs # this saves 'limbs' as a attribute, rather than just an input variable\n",
    "        self.eyes = eyes\n",
    "        self.tails = tails\n",
    "\n",
    "\n",
    "    def describe(self):\n",
    "        \"\"\"This is another method\"\"\"\n",
    "        print(f\"i have {self.limbs} limbs\")\n",
    "\n",
    "\n",
    "    def speak(self):\n",
    "        \"\"\"Define a 'method' (a func within a class)\"\"\"\n",
    "        pritn(\"i am an animal.\")"
   ]
  },
  {
   "cell_type": "code",
   "execution_count": null,
   "metadata": {},
   "outputs": [],
   "source": []
  },
  {
   "cell_type": "code",
   "execution_count": 39,
   "metadata": {},
   "outputs": [
    {
     "data": {
      "text/plain": [
       "' Create two animal objects.'"
      ]
     },
     "execution_count": 39,
     "metadata": {},
     "output_type": "execute_result"
    }
   ],
   "source": [
    "\"\"\" Create two animal objects.\"\"\"\n"
   ]
  },
  {
   "cell_type": "code",
   "execution_count": 40,
   "metadata": {},
   "outputs": [
    {
     "data": {
      "text/plain": [
       "' Call the methods of the animal objects. '"
      ]
     },
     "execution_count": 40,
     "metadata": {},
     "output_type": "execute_result"
    }
   ],
   "source": [
    "\"\"\" Call the methods of the animal objects. \"\"\"\n"
   ]
  },
  {
   "cell_type": "code",
   "execution_count": 41,
   "metadata": {},
   "outputs": [],
   "source": [
    "\"\"\" Create a new class called Dog that inherits from Animal. \"\"\"\n",
    "\n",
    "class Dog(Animal):\n",
    "\n",
    "    def __init__(self, name, breed):\n",
    "        # initialize the parent\n",
    "        super().__init__(limbs=4, eyes=2, tails=1)\n",
    "\n",
    "        self.name = name\n",
    "        self.breed = breed\n",
    "    \n",
    "    def speak(self):\n",
    "        \"\"\" Prints dog name: woof!\"\"\"\n",
    "        print(f'{self.name}: woof!')\n",
    "\n",
    "    \n",
    "    def __repr__(self):\n",
    "        pass\n",
    "        \n"
   ]
  },
  {
   "cell_type": "code",
   "execution_count": 42,
   "metadata": {},
   "outputs": [
    {
     "name": "stdout",
     "output_type": "stream",
     "text": [
      "i have 4 limbs\n"
     ]
    }
   ],
   "source": [
    "gabby = Dog('gabby', 'corgi')\n",
    "gabby.describe()"
   ]
  },
  {
   "cell_type": "markdown",
   "metadata": {},
   "source": [
    "$$ f(x) = ax^2 + bx + c"
   ]
  },
  {
   "cell_type": "code",
   "execution_count": 43,
   "metadata": {},
   "outputs": [],
   "source": [
    "\"\"\" Now create a new quadratic class that has a 'gradient' method. \"\"\"\n",
    "\n",
    "class Quadratic:\n",
    "\n",
    "    def __init__(self, a, b, c):\n",
    "        \"\"\" This is the constructor: it is called when a new object of type 'Quadratic' is created \"\"\"\n",
    "        # coefficients as attributes\n",
    "        self.a = a\n",
    "        self.b = b\n",
    "        self.c = c\n",
    "        # pass\n",
    "\n",
    "    def gradient(self, x):\n",
    "        \"\"\" Calculate the gradient of the quadratic at a given point. \"\"\"\n",
    "        return 2 * self.a * x + 2 * self.b\n",
    "        # pass\n",
    "\n",
    "    def evaluate(self, x):\n",
    "        \"\"\" This method evaluates the polynomial \"\"\"\n",
    "        return self.a*x**2 + self.b * x + self.c\n",
    "        # pass\n",
    "\n",
    "    def __repr__(self):\n",
    "        \"\"\" Print the quadratic \"\"\"\n",
    "        return f'{self.a}*x**2 + {self.b}*x + {self.c}'\n",
    "        # pass\n",
    "\n",
    "    def __eval__(self, x):\n",
    "        \"\"\" Evaluate the quadratic \"\"\"\n",
    "        pass\n",
    "\n",
    "\n",
    "    def __call__(self, x): \n",
    "        pass"
   ]
  },
  {
   "cell_type": "code",
   "execution_count": 47,
   "metadata": {},
   "outputs": [
    {
     "data": {
      "text/plain": [
       "3"
      ]
     },
     "execution_count": 47,
     "metadata": {},
     "output_type": "execute_result"
    }
   ],
   "source": [
    "\"\"\" Test the quadratic class.\"\"\"\n",
    "f1 = Quadratic(0,2,3)\n",
    "f1.evaluate(0)\n"
   ]
  },
  {
   "cell_type": "code",
   "execution_count": null,
   "metadata": {},
   "outputs": [],
   "source": []
  },
  {
   "cell_type": "code",
   "execution_count": null,
   "metadata": {},
   "outputs": [],
   "source": []
  }
 ],
 "metadata": {
  "kernelspec": {
   "display_name": "easg690",
   "language": "python",
   "name": "python3"
  },
  "language_info": {
   "codemirror_mode": {
    "name": "ipython",
    "version": 3
   },
   "file_extension": ".py",
   "mimetype": "text/x-python",
   "name": "python",
   "nbconvert_exporter": "python",
   "pygments_lexer": "ipython3",
   "version": "3.10.12"
  }
 },
 "nbformat": 4,
 "nbformat_minor": 2
}
